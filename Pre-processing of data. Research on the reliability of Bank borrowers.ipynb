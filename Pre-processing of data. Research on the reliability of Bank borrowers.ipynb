{
 "cells": [
  {
   "cell_type": "markdown",
   "metadata": {},
   "source": [
    "## Исследование надёжности заёмщиков\n",
    "\n",
    "Заказчик — кредитный отдел банка. Нужно разобраться, влияет ли семейное положение и количество детей клиента на факт погашения кредита в срок. Входные данные от банка — статистика о платёжеспособности клиентов.\n",
    "\n",
    "Результаты исследования будут учтены при построении модели **кредитного скоринга** — специальной системы, которая оценивает способность потенциального заёмщика вернуть кредит банку."
   ]
  },
  {
   "cell_type": "markdown",
   "metadata": {},
   "source": [
    "### Шаг 1. Откройте файл с данными и изучите общую информацию. "
   ]
  },
  {
   "cell_type": "code",
   "execution_count": 5,
   "metadata": {},
   "outputs": [],
   "source": [
    "import pandas as pd\n",
    "data = pd.read_csv('/datasets/data.csv')\n",
    "print(data.describe())\n",
    "print(data.info())\n",
    "data.head()"
   ]
  },
  {
   "cell_type": "markdown",
   "metadata": {},
   "source": [
    "### Шаг 2. Предобработка данных"
   ]
  },
  {
   "cell_type": "markdown",
   "metadata": {},
   "source": [
    "### Обработка пропусков"
   ]
  },
  {
   "cell_type": "code",
   "execution_count": 6,
   "metadata": {},
   "outputs": [],
   "source": [
    "days_employed_avg = data['days_employed'].mean()\n",
    "total_income_avg = data['total_income'].mean()\n",
    "dob_years_avg = data['dob_years'].mean()\n",
    "\n",
    "data.loc[data['children'] == 20,'children'] = 2\n",
    "data.loc[data['children'] == -1,'children'] = 0\n",
    "\n",
    "\n",
    "data['dob_years'] = data['dob_years'].fillna(value=dob_years_avg)\n",
    "data['days_employed'] = data['days_employed'].fillna(value=days_employed_avg)\n",
    "data['total_income'] = data['total_income'].fillna(value=total_income_avg)\n"
   ]
  },
  {
   "cell_type": "markdown",
   "metadata": {},
   "source": [
    "Были пропущенны значения в столбцах:\n",
    "1. Общий трудовой стаж в днях;\n",
    "2. Ежемесячный доход;\n",
    "\n",
    "Это может быть связано с тем, что клиент не своевременно подал Трудовую книжку и справку 2-НДФЛ, либо эти данные не были внесены/утеряны.\n",
    "\n",
    "Были заполненные все пропущенных значения в двух столбцах, \"0\" - использовался как неизвестное значение.\n",
    "\n",
    "<<Первая правка>>\n",
    "\n",
    "Посчитал среднее значение в столбцах\n",
    "1. Общий трудовой стаж в днях;\n",
    "2. Ежемесячный доход;\n",
    "\n",
    "Подставил эти значения в пропуски.\n",
    "Количество детей изменил вручную.\n",
    "\n",
    "\n"
   ]
  },
  {
   "cell_type": "markdown",
   "metadata": {},
   "source": [
    "### Замена типа данных"
   ]
  },
  {
   "cell_type": "code",
   "execution_count": 7,
   "metadata": {},
   "outputs": [
    {
     "name": "stdout",
     "output_type": "stream",
     "text": [
      "<class 'pandas.core.frame.DataFrame'>\n",
      "RangeIndex: 21525 entries, 0 to 21524\n",
      "Data columns (total 12 columns):\n",
      "children            21525 non-null int64\n",
      "days_employed       21525 non-null int64\n",
      "dob_years           21525 non-null int64\n",
      "education           21525 non-null object\n",
      "education_id        21525 non-null int64\n",
      "family_status       21525 non-null object\n",
      "family_status_id    21525 non-null int64\n",
      "gender              21525 non-null object\n",
      "income_type         21525 non-null object\n",
      "debt                21525 non-null int64\n",
      "total_income        21525 non-null int64\n",
      "purpose             21525 non-null object\n",
      "dtypes: int64(7), object(5)\n",
      "memory usage: 2.0+ MB\n"
     ]
    }
   ],
   "source": [
    "data['days_employed'] = data['days_employed'].astype(int)\n",
    "data['total_income'] = data['total_income'].astype(int)\n",
    "data.info()"
   ]
  },
  {
   "cell_type": "markdown",
   "metadata": {},
   "source": [
    "### Вывод"
   ]
  },
  {
   "cell_type": "markdown",
   "metadata": {},
   "source": [
    "Изменять типы данных не стал, тк в задании прописано изменить \"...вещественный тип данных на целочисленный\", а это float64 и int64 соответственно. Но в данной таблице нет столбцов со значением float64.\n"
   ]
  },
  {
   "cell_type": "markdown",
   "metadata": {},
   "source": [
    "### Обработка дубликатов"
   ]
  },
  {
   "cell_type": "code",
   "execution_count": 8,
   "metadata": {},
   "outputs": [
    {
     "data": {
      "text/plain": [
       "0"
      ]
     },
     "execution_count": 8,
     "metadata": {},
     "output_type": "execute_result"
    }
   ],
   "source": [
    "#data = data.drop_duplicates().reset_index(drop=True)\n",
    "#data['education'].value_counts()\n",
    "data['education'] = data['education'].str.lower()\n",
    "data['education'].value_counts()\n",
    "data = data.drop_duplicates().reset_index(drop=True)\n",
    "data.duplicated().sum()"
   ]
  },
  {
   "cell_type": "markdown",
   "metadata": {},
   "source": [
    "### Вывод"
   ]
  },
  {
   "cell_type": "markdown",
   "metadata": {},
   "source": [
    "Сначала было найдено общее количество дубликатов по форме #print(data.duplicated().sum())\n",
    "Далее были удалены дубликаты методом #drop_duplicates и сохранены индексы методом #reset_index(drop=True)\n",
    "\n",
    "<<Первая правка>>\n",
    "\n",
    "С помощью метода value_counts() нашел дубликаты связанные с регистром, и подвел их под единое значение.\n",
    "\n",
    "__________________________________________________\n",
    "\n",
    "<<Вторая правка>>\n",
    "\n",
    "Повторил те же действия что и до приведения столбца с образованием в один регистр"
   ]
  },
  {
   "cell_type": "markdown",
   "metadata": {},
   "source": [
    "### Лемматизация"
   ]
  },
  {
   "cell_type": "code",
   "execution_count": 10,
   "metadata": {},
   "outputs": [
    {
     "data": {
      "text/html": [
       "<div>\n",
       "<style scoped>\n",
       "    .dataframe tbody tr th:only-of-type {\n",
       "        vertical-align: middle;\n",
       "    }\n",
       "\n",
       "    .dataframe tbody tr th {\n",
       "        vertical-align: top;\n",
       "    }\n",
       "\n",
       "    .dataframe thead th {\n",
       "        text-align: right;\n",
       "    }\n",
       "</style>\n",
       "<table border=\"1\" class=\"dataframe\">\n",
       "  <thead>\n",
       "    <tr style=\"text-align: right;\">\n",
       "      <th></th>\n",
       "      <th>children</th>\n",
       "      <th>days_employed</th>\n",
       "      <th>dob_years</th>\n",
       "      <th>education</th>\n",
       "      <th>education_id</th>\n",
       "      <th>family_status</th>\n",
       "      <th>family_status_id</th>\n",
       "      <th>gender</th>\n",
       "      <th>income_type</th>\n",
       "      <th>debt</th>\n",
       "      <th>total_income</th>\n",
       "      <th>purpose</th>\n",
       "      <th>purpose_lemma</th>\n",
       "    </tr>\n",
       "  </thead>\n",
       "  <tbody>\n",
       "    <tr>\n",
       "      <td>0</td>\n",
       "      <td>1</td>\n",
       "      <td>-8437</td>\n",
       "      <td>42</td>\n",
       "      <td>высшее</td>\n",
       "      <td>0</td>\n",
       "      <td>женат / замужем</td>\n",
       "      <td>0</td>\n",
       "      <td>F</td>\n",
       "      <td>сотрудник</td>\n",
       "      <td>0</td>\n",
       "      <td>253875</td>\n",
       "      <td>покупка жилья</td>\n",
       "      <td>[покупка,  , жилье, \\n]</td>\n",
       "    </tr>\n",
       "    <tr>\n",
       "      <td>1</td>\n",
       "      <td>1</td>\n",
       "      <td>-4024</td>\n",
       "      <td>36</td>\n",
       "      <td>среднее</td>\n",
       "      <td>1</td>\n",
       "      <td>женат / замужем</td>\n",
       "      <td>0</td>\n",
       "      <td>F</td>\n",
       "      <td>сотрудник</td>\n",
       "      <td>0</td>\n",
       "      <td>112080</td>\n",
       "      <td>приобретение автомобиля</td>\n",
       "      <td>[приобретение,  , автомобиль, \\n]</td>\n",
       "    </tr>\n",
       "    <tr>\n",
       "      <td>2</td>\n",
       "      <td>0</td>\n",
       "      <td>-5623</td>\n",
       "      <td>33</td>\n",
       "      <td>среднее</td>\n",
       "      <td>1</td>\n",
       "      <td>женат / замужем</td>\n",
       "      <td>0</td>\n",
       "      <td>M</td>\n",
       "      <td>сотрудник</td>\n",
       "      <td>0</td>\n",
       "      <td>145885</td>\n",
       "      <td>покупка жилья</td>\n",
       "      <td>[покупка,  , жилье, \\n]</td>\n",
       "    </tr>\n",
       "    <tr>\n",
       "      <td>3</td>\n",
       "      <td>3</td>\n",
       "      <td>-4124</td>\n",
       "      <td>32</td>\n",
       "      <td>среднее</td>\n",
       "      <td>1</td>\n",
       "      <td>женат / замужем</td>\n",
       "      <td>0</td>\n",
       "      <td>M</td>\n",
       "      <td>сотрудник</td>\n",
       "      <td>0</td>\n",
       "      <td>267628</td>\n",
       "      <td>дополнительное образование</td>\n",
       "      <td>[дополнительный,  , образование, \\n]</td>\n",
       "    </tr>\n",
       "    <tr>\n",
       "      <td>4</td>\n",
       "      <td>0</td>\n",
       "      <td>340266</td>\n",
       "      <td>53</td>\n",
       "      <td>среднее</td>\n",
       "      <td>1</td>\n",
       "      <td>гражданский брак</td>\n",
       "      <td>1</td>\n",
       "      <td>F</td>\n",
       "      <td>пенсионер</td>\n",
       "      <td>0</td>\n",
       "      <td>158616</td>\n",
       "      <td>сыграть свадьбу</td>\n",
       "      <td>[сыграть,  , свадьба, \\n]</td>\n",
       "    </tr>\n",
       "  </tbody>\n",
       "</table>\n",
       "</div>"
      ],
      "text/plain": [
       "   children  days_employed  dob_years education  education_id  \\\n",
       "0         1          -8437         42    высшее             0   \n",
       "1         1          -4024         36   среднее             1   \n",
       "2         0          -5623         33   среднее             1   \n",
       "3         3          -4124         32   среднее             1   \n",
       "4         0         340266         53   среднее             1   \n",
       "\n",
       "      family_status  family_status_id gender income_type  debt  total_income  \\\n",
       "0   женат / замужем                 0      F   сотрудник     0        253875   \n",
       "1   женат / замужем                 0      F   сотрудник     0        112080   \n",
       "2   женат / замужем                 0      M   сотрудник     0        145885   \n",
       "3   женат / замужем                 0      M   сотрудник     0        267628   \n",
       "4  гражданский брак                 1      F   пенсионер     0        158616   \n",
       "\n",
       "                      purpose                         purpose_lemma  \n",
       "0               покупка жилья               [покупка,  , жилье, \\n]  \n",
       "1     приобретение автомобиля     [приобретение,  , автомобиль, \\n]  \n",
       "2               покупка жилья               [покупка,  , жилье, \\n]  \n",
       "3  дополнительное образование  [дополнительный,  , образование, \\n]  \n",
       "4             сыграть свадьбу             [сыграть,  , свадьба, \\n]  "
      ]
     },
     "execution_count": 10,
     "metadata": {},
     "output_type": "execute_result"
    }
   ],
   "source": [
    "from pymystem3 import Mystem\n",
    "m = Mystem()\n",
    "data['purpose_lemma'] = data['purpose'].apply(lambda x: m.lemmatize(x))\n",
    "data.head()"
   ]
  },
  {
   "cell_type": "code",
   "execution_count": 11,
   "metadata": {},
   "outputs": [
    {
     "data": {
      "text/html": [
       "<div>\n",
       "<style scoped>\n",
       "    .dataframe tbody tr th:only-of-type {\n",
       "        vertical-align: middle;\n",
       "    }\n",
       "\n",
       "    .dataframe tbody tr th {\n",
       "        vertical-align: top;\n",
       "    }\n",
       "\n",
       "    .dataframe thead th {\n",
       "        text-align: right;\n",
       "    }\n",
       "</style>\n",
       "<table border=\"1\" class=\"dataframe\">\n",
       "  <thead>\n",
       "    <tr style=\"text-align: right;\">\n",
       "      <th></th>\n",
       "      <th>children</th>\n",
       "      <th>days_employed</th>\n",
       "      <th>dob_years</th>\n",
       "      <th>education</th>\n",
       "      <th>education_id</th>\n",
       "      <th>family_status</th>\n",
       "      <th>family_status_id</th>\n",
       "      <th>gender</th>\n",
       "      <th>income_type</th>\n",
       "      <th>debt</th>\n",
       "      <th>total_income</th>\n",
       "      <th>purpose</th>\n",
       "      <th>purpose_lemma</th>\n",
       "    </tr>\n",
       "  </thead>\n",
       "  <tbody>\n",
       "    <tr>\n",
       "      <td>0</td>\n",
       "      <td>1</td>\n",
       "      <td>-8437</td>\n",
       "      <td>42</td>\n",
       "      <td>высшее</td>\n",
       "      <td>0</td>\n",
       "      <td>женат / замужем</td>\n",
       "      <td>0</td>\n",
       "      <td>F</td>\n",
       "      <td>сотрудник</td>\n",
       "      <td>0</td>\n",
       "      <td>253875</td>\n",
       "      <td>покупка жилья</td>\n",
       "      <td>[покупка,  , жилье, \\n]</td>\n",
       "    </tr>\n",
       "    <tr>\n",
       "      <td>1</td>\n",
       "      <td>1</td>\n",
       "      <td>-4024</td>\n",
       "      <td>36</td>\n",
       "      <td>среднее</td>\n",
       "      <td>1</td>\n",
       "      <td>женат / замужем</td>\n",
       "      <td>0</td>\n",
       "      <td>F</td>\n",
       "      <td>сотрудник</td>\n",
       "      <td>0</td>\n",
       "      <td>112080</td>\n",
       "      <td>приобретение автомобиля</td>\n",
       "      <td>[приобретение,  , автомобиль, \\n]</td>\n",
       "    </tr>\n",
       "  </tbody>\n",
       "</table>\n",
       "</div>"
      ],
      "text/plain": [
       "   children  days_employed  dob_years education  education_id  \\\n",
       "0         1          -8437         42    высшее             0   \n",
       "1         1          -4024         36   среднее             1   \n",
       "\n",
       "     family_status  family_status_id gender income_type  debt  total_income  \\\n",
       "0  женат / замужем                 0      F   сотрудник     0        253875   \n",
       "1  женат / замужем                 0      F   сотрудник     0        112080   \n",
       "\n",
       "                   purpose                      purpose_lemma  \n",
       "0            покупка жилья            [покупка,  , жилье, \\n]  \n",
       "1  приобретение автомобиля  [приобретение,  , автомобиль, \\n]  "
      ]
     },
     "execution_count": 11,
     "metadata": {},
     "output_type": "execute_result"
    }
   ],
   "source": [
    "data.head(2)"
   ]
  },
  {
   "cell_type": "markdown",
   "metadata": {},
   "source": [
    "Создал новую колонку, с ключевыми словами из колонки \"Цель кредита\""
   ]
  },
  {
   "cell_type": "markdown",
   "metadata": {},
   "source": [
    "### Категоризация данных"
   ]
  },
  {
   "cell_type": "code",
   "execution_count": 12,
   "metadata": {},
   "outputs": [],
   "source": [
    "#data['purpose'].value_counts()\n",
    "\n",
    "def categorizer_purpose(row):\n",
    "    if 'автомобиль' in row:\n",
    "        return 'автомобиль'\n",
    "    if 'жилье' in row:\n",
    "        return 'жилье'\n",
    "    if 'свадьба' in row:\n",
    "        return 'свадьба'\n",
    "    if 'недвижимость' in row:\n",
    "        return 'недвижимость'\n",
    "    if 'образование' in row:\n",
    "        return 'образование'\n",
    "\n",
    "data['purpose_group'] = data['purpose'].apply(categorizer_purpose)\n",
    "\n",
    "\n",
    "def total_income_group(row):\n",
    "    total_income = row['total_income']\n",
    "    \n",
    "    if total_income <= 60000:\n",
    "        return 'низкий'\n",
    "    elif total_income >= 60001 and total_income <=100000:\n",
    "        return 'средний'\n",
    "    else:\n",
    "        return 'высокий'\n",
    "\n",
    "data['total_income_group'] = data.apply(total_income_group, axis=1)"
   ]
  },
  {
   "cell_type": "markdown",
   "metadata": {},
   "source": [
    "### Вывод"
   ]
  },
  {
   "cell_type": "markdown",
   "metadata": {},
   "source": [
    "<font color=blue><<Первая правка>>\n",
    " \n",
    "Стал писать функцию, чтобы группировать уровень доходов, но почему то стал ругаться на purpose_lemma, не могу разобраться почему\n",
    "_______________________________________\n",
    "   \n",
    "    \n",
    "<font color=black><<Вторая правка>>\n",
    "    \n",
    "1. исправил указанные ошибки, появилась новая ('The truth value of a Series is ambiguous. Use a.empty, a.bool(), a.item(), a.any() or a.all().', 'occurred at index 0')"
   ]
  },
  {
   "cell_type": "markdown",
   "metadata": {},
   "source": [
    "### Шаг 3. Ответьте на вопросы"
   ]
  },
  {
   "cell_type": "markdown",
   "metadata": {},
   "source": [
    "- Есть ли зависимость между наличием детей и возвратом кредита в срок?"
   ]
  },
  {
   "cell_type": "code",
   "execution_count": 13,
   "metadata": {},
   "outputs": [
    {
     "data": {
      "text/html": [
       "<div>\n",
       "<style scoped>\n",
       "    .dataframe tbody tr th:only-of-type {\n",
       "        vertical-align: middle;\n",
       "    }\n",
       "\n",
       "    .dataframe tbody tr th {\n",
       "        vertical-align: top;\n",
       "    }\n",
       "\n",
       "    .dataframe thead th {\n",
       "        text-align: right;\n",
       "    }\n",
       "</style>\n",
       "<table border=\"1\" class=\"dataframe\">\n",
       "  <thead>\n",
       "    <tr style=\"text-align: right;\">\n",
       "      <th>debt_info</th>\n",
       "      <th>debt</th>\n",
       "      <th>no_debt</th>\n",
       "      <th>sum</th>\n",
       "      <th>return_debt</th>\n",
       "    </tr>\n",
       "    <tr>\n",
       "      <th>children</th>\n",
       "      <th></th>\n",
       "      <th></th>\n",
       "      <th></th>\n",
       "      <th></th>\n",
       "    </tr>\n",
       "  </thead>\n",
       "  <tbody>\n",
       "    <tr>\n",
       "      <td>0</td>\n",
       "      <td>1064.0</td>\n",
       "      <td>13074.0</td>\n",
       "      <td>14138.0</td>\n",
       "      <td>92.474183</td>\n",
       "    </tr>\n",
       "    <tr>\n",
       "      <td>1</td>\n",
       "      <td>444.0</td>\n",
       "      <td>4364.0</td>\n",
       "      <td>4808.0</td>\n",
       "      <td>90.765391</td>\n",
       "    </tr>\n",
       "    <tr>\n",
       "      <td>2</td>\n",
       "      <td>202.0</td>\n",
       "      <td>1926.0</td>\n",
       "      <td>2128.0</td>\n",
       "      <td>90.507519</td>\n",
       "    </tr>\n",
       "    <tr>\n",
       "      <td>3</td>\n",
       "      <td>27.0</td>\n",
       "      <td>303.0</td>\n",
       "      <td>330.0</td>\n",
       "      <td>91.818182</td>\n",
       "    </tr>\n",
       "    <tr>\n",
       "      <td>4</td>\n",
       "      <td>4.0</td>\n",
       "      <td>37.0</td>\n",
       "      <td>41.0</td>\n",
       "      <td>90.243902</td>\n",
       "    </tr>\n",
       "    <tr>\n",
       "      <td>5</td>\n",
       "      <td>NaN</td>\n",
       "      <td>9.0</td>\n",
       "      <td>9.0</td>\n",
       "      <td>100.000000</td>\n",
       "    </tr>\n",
       "  </tbody>\n",
       "</table>\n",
       "</div>"
      ],
      "text/plain": [
       "debt_info    debt  no_debt      sum  return_debt\n",
       "children                                        \n",
       "0          1064.0  13074.0  14138.0    92.474183\n",
       "1           444.0   4364.0   4808.0    90.765391\n",
       "2           202.0   1926.0   2128.0    90.507519\n",
       "3            27.0    303.0    330.0    91.818182\n",
       "4             4.0     37.0     41.0    90.243902\n",
       "5             NaN      9.0      9.0   100.000000"
      ]
     },
     "execution_count": 13,
     "metadata": {},
     "output_type": "execute_result"
    }
   ],
   "source": [
    "def check_debt(row):\n",
    "   \n",
    "    debt_ind = row['debt']\n",
    "   \n",
    "    if debt_ind == 0:\n",
    "        return 'no_debt'\n",
    "    else:\n",
    "        return 'debt'\n",
    " \n",
    " \n",
    "data['debt_info'] = data.apply(check_debt, axis =1)\n",
    "data_pivot = data.pivot_table(index=['children'], columns = 'debt_info', values = 'debt', aggfunc='count')  \n",
    "data.loc[data['children'] == 20,'children'] = 2\n",
    "data.loc[data['children'] == -1,'children'] = 0\n",
    " \n",
    "data_pivot['sum'] = data_pivot.sum(axis=1) \n",
    "data_pivot['return_debt'] = (data_pivot['no_debt']/data_pivot['sum'])*100\n",
    "data_pivot"
   ]
  },
  {
   "cell_type": "markdown",
   "metadata": {},
   "source": [
    "### Вывод"
   ]
  },
  {
   "cell_type": "markdown",
   "metadata": {},
   "source": [
    "Если не брать в расчёт аномалию, то чем меньше детей, тем реже задолженность по возвратам кредитов в срок."
   ]
  },
  {
   "cell_type": "markdown",
   "metadata": {},
   "source": [
    "- Есть ли зависимость между семейным положением и возвратом кредита в срок?"
   ]
  },
  {
   "cell_type": "code",
   "execution_count": 14,
   "metadata": {},
   "outputs": [
    {
     "data": {
      "text/html": [
       "<div>\n",
       "<style scoped>\n",
       "    .dataframe tbody tr th:only-of-type {\n",
       "        vertical-align: middle;\n",
       "    }\n",
       "\n",
       "    .dataframe tbody tr th {\n",
       "        vertical-align: top;\n",
       "    }\n",
       "\n",
       "    .dataframe thead th {\n",
       "        text-align: right;\n",
       "    }\n",
       "</style>\n",
       "<table border=\"1\" class=\"dataframe\">\n",
       "  <thead>\n",
       "    <tr style=\"text-align: right;\">\n",
       "      <th>debt_info</th>\n",
       "      <th>debt</th>\n",
       "      <th>no_debt</th>\n",
       "      <th>sum</th>\n",
       "      <th>return_debt</th>\n",
       "    </tr>\n",
       "    <tr>\n",
       "      <th>family_status</th>\n",
       "      <th></th>\n",
       "      <th></th>\n",
       "      <th></th>\n",
       "      <th></th>\n",
       "    </tr>\n",
       "  </thead>\n",
       "  <tbody>\n",
       "    <tr>\n",
       "      <td>Не женат / не замужем</td>\n",
       "      <td>274</td>\n",
       "      <td>2536</td>\n",
       "      <td>2810</td>\n",
       "      <td>90.249110</td>\n",
       "    </tr>\n",
       "    <tr>\n",
       "      <td>в разводе</td>\n",
       "      <td>85</td>\n",
       "      <td>1110</td>\n",
       "      <td>1195</td>\n",
       "      <td>92.887029</td>\n",
       "    </tr>\n",
       "    <tr>\n",
       "      <td>вдовец / вдова</td>\n",
       "      <td>63</td>\n",
       "      <td>896</td>\n",
       "      <td>959</td>\n",
       "      <td>93.430657</td>\n",
       "    </tr>\n",
       "    <tr>\n",
       "      <td>гражданский брак</td>\n",
       "      <td>388</td>\n",
       "      <td>3763</td>\n",
       "      <td>4151</td>\n",
       "      <td>90.652855</td>\n",
       "    </tr>\n",
       "    <tr>\n",
       "      <td>женат / замужем</td>\n",
       "      <td>931</td>\n",
       "      <td>11408</td>\n",
       "      <td>12339</td>\n",
       "      <td>92.454818</td>\n",
       "    </tr>\n",
       "  </tbody>\n",
       "</table>\n",
       "</div>"
      ],
      "text/plain": [
       "debt_info              debt  no_debt    sum  return_debt\n",
       "family_status                                           \n",
       "Не женат / не замужем   274     2536   2810    90.249110\n",
       "в разводе                85     1110   1195    92.887029\n",
       "вдовец / вдова           63      896    959    93.430657\n",
       "гражданский брак        388     3763   4151    90.652855\n",
       "женат / замужем         931    11408  12339    92.454818"
      ]
     },
     "execution_count": 14,
     "metadata": {},
     "output_type": "execute_result"
    }
   ],
   "source": [
    "data['debt_info'] = data.apply(check_debt, axis =1)\n",
    " \n",
    "data_pivot = data.pivot_table(index=['family_status'], columns = 'debt_info', values = 'debt', aggfunc='count')  \n",
    " \n",
    "data_pivot['sum'] = data_pivot.sum(axis=1) \n",
    "data_pivot['return_debt'] = (data_pivot['no_debt']/data_pivot['sum'])*100\n",
    "data_pivot"
   ]
  },
  {
   "cell_type": "markdown",
   "metadata": {},
   "source": [
    "### Вывод"
   ]
  },
  {
   "cell_type": "markdown",
   "metadata": {},
   "source": [
    "- Есть ли зависимость между уровнем дохода и возвратом кредита в срок?"
   ]
  },
  {
   "cell_type": "code",
   "execution_count": 15,
   "metadata": {},
   "outputs": [
    {
     "data": {
      "text/html": [
       "<div>\n",
       "<style scoped>\n",
       "    .dataframe tbody tr th:only-of-type {\n",
       "        vertical-align: middle;\n",
       "    }\n",
       "\n",
       "    .dataframe tbody tr th {\n",
       "        vertical-align: top;\n",
       "    }\n",
       "\n",
       "    .dataframe thead th {\n",
       "        text-align: right;\n",
       "    }\n",
       "</style>\n",
       "<table border=\"1\" class=\"dataframe\">\n",
       "  <thead>\n",
       "    <tr style=\"text-align: right;\">\n",
       "      <th>debt_info</th>\n",
       "      <th>debt</th>\n",
       "      <th>no_debt</th>\n",
       "      <th>sum</th>\n",
       "      <th>return_debt</th>\n",
       "    </tr>\n",
       "    <tr>\n",
       "      <th>total_income_group</th>\n",
       "      <th></th>\n",
       "      <th></th>\n",
       "      <th></th>\n",
       "      <th></th>\n",
       "    </tr>\n",
       "  </thead>\n",
       "  <tbody>\n",
       "    <tr>\n",
       "      <td>высокий</td>\n",
       "      <td>1387</td>\n",
       "      <td>15604</td>\n",
       "      <td>16991</td>\n",
       "      <td>91.836855</td>\n",
       "    </tr>\n",
       "    <tr>\n",
       "      <td>низкий</td>\n",
       "      <td>49</td>\n",
       "      <td>757</td>\n",
       "      <td>806</td>\n",
       "      <td>93.920596</td>\n",
       "    </tr>\n",
       "    <tr>\n",
       "      <td>средний</td>\n",
       "      <td>305</td>\n",
       "      <td>3352</td>\n",
       "      <td>3657</td>\n",
       "      <td>91.659830</td>\n",
       "    </tr>\n",
       "  </tbody>\n",
       "</table>\n",
       "</div>"
      ],
      "text/plain": [
       "debt_info           debt  no_debt    sum  return_debt\n",
       "total_income_group                                   \n",
       "высокий             1387    15604  16991    91.836855\n",
       "низкий                49      757    806    93.920596\n",
       "средний              305     3352   3657    91.659830"
      ]
     },
     "execution_count": 15,
     "metadata": {},
     "output_type": "execute_result"
    }
   ],
   "source": [
    "data['debt_info'] = data.apply(check_debt, axis =1)\n",
    " \n",
    "data_pivot = data.pivot_table(index=['total_income_group'], columns = 'debt_info', values = 'debt', aggfunc='count')  \n",
    " \n",
    "data_pivot['sum'] = data_pivot.sum(axis=1) \n",
    "data_pivot['return_debt'] = (data_pivot['no_debt']/data_pivot['sum'])*100\n",
    "data_pivot"
   ]
  },
  {
   "cell_type": "markdown",
   "metadata": {},
   "source": [
    "Люди с низким заработком возвращают кредиты в срок чаще, чем люди с высоким и средним. "
   ]
  },
  {
   "cell_type": "markdown",
   "metadata": {},
   "source": [
    "<font color=blue><<Первая правка>>\n",
    "\n",
    "Чтобы выполнить данное упражнение мне необходимо категоризировать данные по уровню дохода и провести работу аналогичной выше.\n",
    "    Если я ошибаюсь, то прошу направить в нужное русло."
   ]
  },
  {
   "cell_type": "markdown",
   "metadata": {},
   "source": [
    "- Как разные цели кредита влияют на его возврат в срок?"
   ]
  },
  {
   "cell_type": "code",
   "execution_count": 16,
   "metadata": {},
   "outputs": [
    {
     "data": {
      "text/html": [
       "<div>\n",
       "<style scoped>\n",
       "    .dataframe tbody tr th:only-of-type {\n",
       "        vertical-align: middle;\n",
       "    }\n",
       "\n",
       "    .dataframe tbody tr th {\n",
       "        vertical-align: top;\n",
       "    }\n",
       "\n",
       "    .dataframe thead th {\n",
       "        text-align: right;\n",
       "    }\n",
       "</style>\n",
       "<table border=\"1\" class=\"dataframe\">\n",
       "  <thead>\n",
       "    <tr style=\"text-align: right;\">\n",
       "      <th>debt_info</th>\n",
       "      <th>debt</th>\n",
       "      <th>no_debt</th>\n",
       "      <th>sum</th>\n",
       "      <th>return_debt</th>\n",
       "    </tr>\n",
       "    <tr>\n",
       "      <th>purpose_group</th>\n",
       "      <th></th>\n",
       "      <th></th>\n",
       "      <th></th>\n",
       "      <th></th>\n",
       "    </tr>\n",
       "  </thead>\n",
       "  <tbody>\n",
       "    <tr>\n",
       "      <td>автомобиль</td>\n",
       "      <td>90</td>\n",
       "      <td>882</td>\n",
       "      <td>972</td>\n",
       "      <td>90.740741</td>\n",
       "    </tr>\n",
       "    <tr>\n",
       "      <td>жилье</td>\n",
       "      <td>94</td>\n",
       "      <td>1204</td>\n",
       "      <td>1298</td>\n",
       "      <td>92.758089</td>\n",
       "    </tr>\n",
       "    <tr>\n",
       "      <td>недвижимость</td>\n",
       "      <td>199</td>\n",
       "      <td>2386</td>\n",
       "      <td>2585</td>\n",
       "      <td>92.301741</td>\n",
       "    </tr>\n",
       "    <tr>\n",
       "      <td>образование</td>\n",
       "      <td>236</td>\n",
       "      <td>2463</td>\n",
       "      <td>2699</td>\n",
       "      <td>91.256021</td>\n",
       "    </tr>\n",
       "    <tr>\n",
       "      <td>свадьба</td>\n",
       "      <td>64</td>\n",
       "      <td>727</td>\n",
       "      <td>791</td>\n",
       "      <td>91.908976</td>\n",
       "    </tr>\n",
       "  </tbody>\n",
       "</table>\n",
       "</div>"
      ],
      "text/plain": [
       "debt_info      debt  no_debt   sum  return_debt\n",
       "purpose_group                                  \n",
       "автомобиль       90      882   972    90.740741\n",
       "жилье            94     1204  1298    92.758089\n",
       "недвижимость    199     2386  2585    92.301741\n",
       "образование     236     2463  2699    91.256021\n",
       "свадьба          64      727   791    91.908976"
      ]
     },
     "execution_count": 16,
     "metadata": {},
     "output_type": "execute_result"
    }
   ],
   "source": [
    "def check_debt(row):\n",
    "   \n",
    "    debt_ind = row['debt']\n",
    "   \n",
    "    if debt_ind == 0:\n",
    "        return 'no_debt'\n",
    "    else:\n",
    "        return 'debt'\n",
    " \n",
    "\n",
    "data['debt_info'] = data.apply(check_debt, axis =1)\n",
    "data_pivot = data.pivot_table(index='purpose_group', columns = 'debt_info', values = 'debt', aggfunc='count')  \n",
    " \n",
    "data_pivot['sum'] = data_pivot.sum(axis=1) \n",
    "data_pivot['return_debt'] = (data_pivot['no_debt']/data_pivot['sum'])*100\n",
    "data_pivot"
   ]
  },
  {
   "cell_type": "markdown",
   "metadata": {},
   "source": [
    "### Вывод"
   ]
  },
  {
   "cell_type": "markdown",
   "metadata": {},
   "source": [
    "<font color=blue><<Первая правка>>\n",
    "    \n",
    "    Уже второй раз python ругается на столбец purpose_lemma, я пытался удалить пропуски через fillna(), но все равно получается данная ошибка. Александр, укажи мне путь)\n",
    "__________________________________\n",
    "    \n",
    "<font color=black><<Вторая правка>>\n",
    "    \n",
    "Изменил purpose_lemma на purpose_group"
   ]
  },
  {
   "cell_type": "markdown",
   "metadata": {},
   "source": [
    "### Шаг 4. Общий вывод"
   ]
  },
  {
   "cell_type": "markdown",
   "metadata": {},
   "source": [
    "Гипотезы:\n",
    "1. Более низкий процент возвратов кредитов в срок у людей имеющих детей связан с экономической нагрузкой, которая приходится на детей и их содержание. Поэтому люди не имеющие детей чаще выплачивают кредиты в срок.\n",
    "2. Зависимости между семейным положением и возвратом кредитов не наблюдаются.Если брать количественное отношение, а не процентное, люди которые женаты/замужем чаще берут кредиты, чем остальное в разы.\n",
    "3. Люди с низким доходом, более социально ответственнее поэтому возвращают кредиты в срок чаще, хоть и берут реже остальных групп.\n",
    "4. Кредиты которые берут на жилье и недвижимость возвращают в срок чаще остальных.\n",
    "\n",
    "Рекомендация:\n",
    "\n",
    "Целевой группой банка являются женатые/замужние люди с низким доходом и без детей, которые берут кредит на жилье и недвижимость.\n"
   ]
  }
 ],
 "metadata": {
  "kernelspec": {
   "display_name": "Python 3",
   "language": "python",
   "name": "python3"
  },
  "language_info": {
   "codemirror_mode": {
    "name": "ipython",
    "version": 3
   },
   "file_extension": ".py",
   "mimetype": "text/x-python",
   "name": "python",
   "nbconvert_exporter": "python",
   "pygments_lexer": "ipython3",
   "version": "3.7.6"
  }
 },
 "nbformat": 4,
 "nbformat_minor": 2
}
